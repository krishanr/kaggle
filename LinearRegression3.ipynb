{
 "cells": [
  {
   "cell_type": "markdown",
   "metadata": {},
   "source": [
    "# Goal: try linear regression with different feature columns, and see which columns give the lowest error."
   ]
  },
  {
   "cell_type": "code",
   "execution_count": 2,
   "metadata": {},
   "outputs": [],
   "source": [
    "import pandas as pd\n",
    "import numpy as np\n",
    "\n",
    "from sklearn import preprocessing, metrics\n",
    "from sklearn.utils import shuffle\n",
    "\n",
    "#Method to (1) set NAN entries to the mean of valid entries in a given column\n",
    "#          (2) Normalize feature columns \n",
    "def fit_nan(data):\n",
    "    from sklearn.impute import SimpleImputer\n",
    "    from sklearn.preprocessing import StandardScaler\n",
    "    \n",
    "    imp = SimpleImputer(missing_values=np.nan, strategy='mean')\n",
    "    res = imp.fit_transform(data)\n",
    "    ss = StandardScaler()\n",
    "    \n",
    "    #Normalize feature columns; sets mean to zero and std deviation to 1\n",
    "    res[:,:-1] = ss.fit_transform(res[:,:-1])\n",
    "    \n",
    "    return res\n",
    "\n",
    "def split_data(data, ratio=0.9):\n",
    "    X = data[:,:-1]\n",
    "    y = data[:,-1]\n",
    "    \n",
    "    size = int(X.shape[0] * ratio)\n",
    "    \n",
    "    return X[:size], y[:size], X[size:], y[size:]\n",
    "\n",
    "#Method to select only numeric columns from the data frame.\n",
    "def num_col(data):\n",
    "    data = data[['LotFrontage', 'LotArea', 'OverallQual',\n",
    "        'OverallCond', 'YearBuilt', 'YearRemodAdd', 'MasVnrArea', 'BsmtFinSF1',\n",
    "        'BsmtFinSF2', 'BsmtUnfSF', 'TotalBsmtSF', '1stFlrSF', '2ndFlrSF',\n",
    "        'LowQualFinSF', 'GrLivArea', 'BsmtFullBath', 'BsmtHalfBath', 'FullBath',\n",
    "        'HalfBath', 'BedroomAbvGr', 'KitchenAbvGr', 'TotRmsAbvGrd',\n",
    "        'Fireplaces', 'GarageYrBlt', 'GarageCars', 'GarageArea', 'WoodDeckSF',\n",
    "        'OpenPorchSF', 'EnclosedPorch', '3SsnPorch', 'ScreenPorch', 'PoolArea',\n",
    "        'MiscVal', 'MoSold', 'YrSold', 'SalePrice']]\n",
    "    return data\n",
    "\n",
    "#Method to run linear regression and print results.\n",
    "def run_regression(train_data, y_train, test_data, y_test, alpha = 0.5):\n",
    "\n",
    "    from sklearn import linear_model\n",
    "    \n",
    "    reg = linear_model.Ridge(alpha)\n",
    "    \n",
    "    reg.fit(train_data,y_train)\n",
    "    y_pred = reg.predict(test_data)\n",
    "    rmse = np.sqrt(metrics.mean_squared_error(np.log(np.absolute(y_pred)), np.log(np.absolute(y_test))))\n",
    "    print(\"Linear regression log mean root-mean-squared error is:\", rmse)\n",
    "    \n",
    "data_shuffled = shuffle(pd.read_csv(\"train.csv\"))"
   ]
  },
  {
   "cell_type": "code",
   "execution_count": 2,
   "metadata": {},
   "outputs": [
    {
     "name": "stdout",
     "output_type": "stream",
     "text": [
      "Linear regression log mean root-mean-squared error is: 0.1430991228200297\n"
     ]
    }
   ],
   "source": [
    "#Currently the best approach to get a low error.\n",
    "data = data_shuffled\n",
    "numerics = ['int16', 'int32', 'int64', 'float16', 'float32', 'float64']\n",
    "\n",
    "data = data.select_dtypes(include=numerics)\n",
    "\n",
    "train_data, y_train, test_data, y_test = split_data(fit_nan(data), 0.9)\n",
    "run_regression(train_data, y_train, test_data, y_test)"
   ]
  },
  {
   "cell_type": "code",
   "execution_count": 3,
   "metadata": {},
   "outputs": [
    {
     "name": "stdout",
     "output_type": "stream",
     "text": [
      "Linear regression log mean root-mean-squared error is: 0.14524515035895394\n"
     ]
    }
   ],
   "source": [
    "#Numerical variables without 'Id' or 'MSSubClass'\n",
    "data = data_shuffled\n",
    "numerics = ['int16', 'int32', 'int64', 'float16', 'float32', 'float64']\n",
    "\n",
    "data = data.select_dtypes(include=numerics)\n",
    "#Select numerical variables other than 'Id', 'MSSubClass'.\n",
    "data = data[['LotFrontage', 'LotArea', 'OverallQual',\n",
    "       'OverallCond', 'YearBuilt', 'YearRemodAdd', 'MasVnrArea', 'BsmtFinSF1',\n",
    "       'BsmtFinSF2', 'BsmtUnfSF', 'TotalBsmtSF', '1stFlrSF', '2ndFlrSF',\n",
    "       'LowQualFinSF', 'GrLivArea', 'BsmtFullBath', 'BsmtHalfBath', 'FullBath',\n",
    "       'HalfBath', 'BedroomAbvGr', 'KitchenAbvGr', 'TotRmsAbvGrd',\n",
    "       'Fireplaces', 'GarageYrBlt', 'GarageCars', 'GarageArea', 'WoodDeckSF',\n",
    "       'OpenPorchSF', 'EnclosedPorch', '3SsnPorch', 'ScreenPorch', 'PoolArea',\n",
    "       'MiscVal', 'MoSold', 'YrSold', 'SalePrice']]\n",
    "\n",
    "train_data, y_train, test_data, y_test = split_data(fit_nan(data), 0.9)\n",
    "run_regression(train_data, y_train, test_data, y_test)"
   ]
  },
  {
   "cell_type": "code",
   "execution_count": 4,
   "metadata": {},
   "outputs": [
    {
     "name": "stdout",
     "output_type": "stream",
     "text": [
      "Linear regression log mean root-mean-squared error is: 0.28651628545750585\n"
     ]
    }
   ],
   "source": [
    "#Try prediction with '1stFlrSF'\n",
    "data = data_shuffled\n",
    "data = data[['1stFlrSF', 'SalePrice']]\n",
    "\n",
    "train_data, y_train, test_data, y_test = split_data(fit_nan(data), 0.9)\n",
    "run_regression(train_data, y_train, test_data, y_test)"
   ]
  },
  {
   "cell_type": "code",
   "execution_count": 5,
   "metadata": {},
   "outputs": [
    {
     "name": "stdout",
     "output_type": "stream",
     "text": [
      "Linear regression log mean root-mean-squared error is: 0.27545068494173436\n"
     ]
    }
   ],
   "source": [
    "#Try prediction with '1stFlrSF' and 'TotalBsmtSF'\n",
    "data = data_shuffled\n",
    "data = data[['1stFlrSF', 'TotalBsmtSF', 'SalePrice']]\n",
    "\n",
    "train_data, y_train, test_data, y_test = split_data(fit_nan(data), 0.9)\n",
    "run_regression(train_data, y_train, test_data, y_test)"
   ]
  },
  {
   "cell_type": "code",
   "execution_count": 6,
   "metadata": {},
   "outputs": [
    {
     "name": "stdout",
     "output_type": "stream",
     "text": [
      "Linear regression log mean root-mean-squared error is: 0.27545315714549345\n"
     ]
    },
    {
     "name": "stderr",
     "output_type": "stream",
     "text": [
      "C:\\Users\\Krishan\\Anaconda3\\lib\\site-packages\\ipykernel_launcher.py:4: SettingWithCopyWarning: \n",
      "A value is trying to be set on a copy of a slice from a DataFrame.\n",
      "Try using .loc[row_indexer,col_indexer] = value instead\n",
      "\n",
      "See the caveats in the documentation: http://pandas.pydata.org/pandas-docs/stable/indexing.html#indexing-view-versus-copy\n",
      "  after removing the cwd from sys.path.\n"
     ]
    }
   ],
   "source": [
    "#How does adding the 'Id' affect the result?\n",
    "data = data_shuffled\n",
    "data = data[['Id', '1stFlrSF', 'TotalBsmtSF', 'SalePrice']]\n",
    "data['Total'] = data['1stFlrSF'] + data['TotalBsmtSF']\n",
    "data = data[['Total', 'SalePrice']]\n",
    "\n",
    "train_data, y_train, test_data, y_test = split_data(fit_nan(data), 0.9)\n",
    "run_regression(train_data, y_train, test_data, y_test)"
   ]
  },
  {
   "cell_type": "code",
   "execution_count": 4,
   "metadata": {},
   "outputs": [
    {
     "name": "stdout",
     "output_type": "stream",
     "text": [
      "Linear regression log mean root-mean-squared error is: 0.25324461429451434\n"
     ]
    }
   ],
   "source": [
    "#Try the most correlated attribute, OverallQual\n",
    "data = data_shuffled\n",
    "data = data[['OverallQual', 'SalePrice']]\n",
    "\n",
    "train_data, y_train, test_data, y_test = split_data(fit_nan(data), 0.9)\n",
    "run_regression(train_data, y_train, test_data, y_test)"
   ]
  },
  {
   "cell_type": "code",
   "execution_count": 3,
   "metadata": {},
   "outputs": [
    {
     "data": {
      "text/plain": [
       "[<matplotlib.lines.Line2D at 0x13cb5c00208>]"
      ]
     },
     "execution_count": 3,
     "metadata": {},
     "output_type": "execute_result"
    },
    {
     "data": {
      "image/png": "[encoded data removed]",
      "text/plain": [
       "<Figure size 432x288 with 1 Axes>"
      ]
     },
     "metadata": {
      "needs_background": "light"
     },
     "output_type": "display_data"
    }
   ],
   "source": [
    "#In the code below, we try to find the best regularization parameter for linear regression.\n",
    "#TODO: This didn't work out so well... Maybe use a cross-validation set next time.\n",
    "import matplotlib.pyplot as plt\n",
    "from sklearn import linear_model\n",
    "\n",
    "data = data_shuffled\n",
    "numerics = ['int16', 'int32', 'int64', 'float16', 'float32', 'float64']\n",
    "\n",
    "data = data.select_dtypes(include=numerics)\n",
    "\n",
    "train_data, y_train, test_data, y_test = split_data(fit_nan(data), 0.9)\n",
    "    \n",
    "# Establish model\n",
    "model = linear_model.Ridge(alpha=0)\n",
    "\n",
    "# Try different numbers of alphas - this will take a minute or so\n",
    "alphas = np.arange(100, 200, 0.5)\n",
    "scores = []\n",
    "for n in alphas:\n",
    "    model.set_params(alpha=n)\n",
    "    model.fit(train_data, y_train)\n",
    "    y_pred = model.predict(test_data)\n",
    "    scores.append(np.sqrt(metrics.mean_squared_error(np.log(np.absolute(y_pred)), np.log(y_test))))\n",
    "plt.title(\"Effect of alpha\")\n",
    "plt.xlabel(\"alpha\")\n",
    "plt.ylabel(\"score\")\n",
    "plt.plot(alphas, scores)"
   ]
  },
  {
   "cell_type": "markdown",
   "metadata": {},
   "source": [
    "# Submission"
   ]
  },
  {
   "cell_type": "code",
   "execution_count": 5,
   "metadata": {},
   "outputs": [],
   "source": [
    "from sklearn import linear_model\n",
    "\n",
    "data = num_col(data_shuffled)\n",
    "\n",
    "train_data, y_train, test_data, y_test = split_data(fit_nan(data), 1)\n",
    "reg = linear_model.Ridge(0)\n",
    "reg.fit(train_data, y_train)\n",
    "\n",
    "submit_data = pd.read_csv('test.csv')\n",
    "numerics = ['int16', 'int32', 'int64', 'float16', 'float32', 'float64']\n",
    "\n",
    "submit_data = submit_data.select_dtypes(include=numerics)\n",
    "submit_data = submit_data[['LotFrontage', 'LotArea', 'OverallQual',\n",
    "    'OverallCond', 'YearBuilt', 'YearRemodAdd', 'MasVnrArea', 'BsmtFinSF1',\n",
    "    'BsmtFinSF2', 'BsmtUnfSF', 'TotalBsmtSF', '1stFlrSF', '2ndFlrSF',\n",
    "    'LowQualFinSF', 'GrLivArea', 'BsmtFullBath', 'BsmtHalfBath', 'FullBath',\n",
    "    'HalfBath', 'BedroomAbvGr', 'KitchenAbvGr', 'TotRmsAbvGrd',\n",
    "    'Fireplaces', 'GarageYrBlt', 'GarageCars', 'GarageArea', 'WoodDeckSF',\n",
    "    'OpenPorchSF', 'EnclosedPorch', '3SsnPorch', 'ScreenPorch', 'PoolArea',\n",
    "    'MiscVal', 'MoSold', 'YrSold']]\n",
    "submit_data = fit_nan(submit_data)\n",
    "\n",
    "length = submit_data.shape[0]\n",
    "\n",
    "pred = reg.predict(submit_data)"
   ]
  },
  {
   "cell_type": "code",
   "execution_count": 6,
   "metadata": {},
   "outputs": [],
   "source": [
    "submit = pd.DataFrame({'Id': np.arange(1461, 1461+length), 'SalePrice' : pred})\n",
    "submit.to_csv('01122019.csv', index=False)"
   ]
  }
 ],
 "metadata": {
  "kernelspec": {
   "display_name": "Python 3",
   "language": "python",
   "name": "python3"
  },
  "language_info": {
   "codemirror_mode": {
    "name": "ipython",
    "version": 3
   },
   "file_extension": ".py",
   "mimetype": "text/x-python",
   "name": "python",
   "nbconvert_exporter": "python",
   "pygments_lexer": "ipython3",
   "version": "3.7.1"
  }
 },
 "nbformat": 4,
 "nbformat_minor": 2
}
