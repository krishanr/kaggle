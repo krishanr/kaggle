{
 "cells": [
  {
   "cell_type": "code",
   "execution_count": 1,
   "metadata": {},
   "outputs": [],
   "source": [
    "import pandas as pd\n",
    "import numpy as np\n",
    "\n",
    "from sklearn import preprocessing, metrics\n",
    "\n",
    "def fit_nan(data):\n",
    "    from sklearn.impute import SimpleImputer\n",
    "    \n",
    "    imp = SimpleImputer(missing_values=np.nan, strategy='mean')\n",
    "    return imp.fit_transform(data)\n",
    "\n",
    "def split_data(data, ratio=0.9):\n",
    "    X = data[:,:-1]\n",
    "    y = data[:,-1]\n",
    "    \n",
    "    size = int(X.shape[0] * ratio)\n",
    "    \n",
    "    return X[:size], y[:size], X[size:], y[size:]"
   ]
  },
  {
   "cell_type": "code",
   "execution_count": 2,
   "metadata": {},
   "outputs": [],
   "source": [
    "data = pd.read_csv(\"train.csv\")\n",
    "\n",
    "numerics = ['int16', 'int32', 'int64', 'float16', 'float32', 'float64']\n",
    "\n",
    "data = data.select_dtypes(include=numerics)\n",
    "\n",
    "train_data, y_train, test_data, y_test = split_data(fit_nan(data), 0.9)"
   ]
  },
  {
   "cell_type": "markdown",
   "metadata": {},
   "source": [
    "# Linear Regression"
   ]
  },
  {
   "cell_type": "code",
   "execution_count": 4,
   "metadata": {},
   "outputs": [
    {
     "name": "stdout",
     "output_type": "stream",
     "text": [
      "Linear regression log mean root-mean-squared error is: 0.17072870181549984\n"
     ]
    }
   ],
   "source": [
    "from sklearn.linear_model import LinearRegression\n",
    "from sklearn.ensemble import BaggingRegressor\n",
    "\n",
    "lm = LinearRegression()\n",
    "lg = BaggingRegressor(lm, n_estimators=500)\n",
    "\n",
    "lg.fit(train_data,y_train)\n",
    "y_pred = lg.predict(test_data)\n",
    "rmse = np.sqrt(metrics.mean_squared_error(np.log(y_pred), np.log(y_test)))\n",
    "print(\"Linear regression log mean root-mean-squared error is:\", rmse)"
   ]
  }
 ],
 "metadata": {
  "kernelspec": {
   "display_name": "Python 3",
   "language": "python",
   "name": "python3"
  },
  "language_info": {
   "codemirror_mode": {
    "name": "ipython",
    "version": 3
   },
   "file_extension": ".py",
   "mimetype": "text/x-python",
   "name": "python",
   "nbconvert_exporter": "python",
   "pygments_lexer": "ipython3",
   "version": "3.7.1"
  }
 },
 "nbformat": 4,
 "nbformat_minor": 2
}
