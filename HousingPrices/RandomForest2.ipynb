{
 "cells": [
  {
   "cell_type": "code",
   "execution_count": 1,
   "metadata": {},
   "outputs": [],
   "source": [
    "import pandas as pd\n",
    "import numpy as np\n",
    "from sklearn.ensemble import RandomForestRegressor\n",
    "from sklearn.metrics import mean_squared_error\n",
    "\n",
    "from sklearn import preprocessing, metrics\n",
    "\n",
    "def fit_nan(data):\n",
    "    from sklearn.impute import SimpleImputer\n",
    "    from sklearn.preprocessing import StandardScaler\n",
    "    \n",
    "    imp = SimpleImputer(missing_values=np.nan, strategy='mean')\n",
    "    res = imp.fit_transform(data)\n",
    "    ss = StandardScaler()\n",
    "    \n",
    "    #Normalize feature columns; sets mean to zero and std deviation to 1\n",
    "    res[:,:-1] = ss.fit_transform(res[:,:-1])\n",
    "    \n",
    "    return res\n",
    "\n",
    "def split_data(data, ratio=0.9):\n",
    "    X = data[:,:-1]\n",
    "    y = data[:,-1]\n",
    "    \n",
    "    size = int(X.shape[0] * ratio)\n",
    "    \n",
    "    return X[:size], y[:size], X[size:], y[size:]\n",
    "\n",
    "def num_col(data):\n",
    "    numerics = ['int16', 'int32', 'int64', 'float16', 'float32', 'float64']\n",
    "\n",
    "    data = data.select_dtypes(include=numerics)\n",
    "    data = data[['LotFrontage', 'LotArea', 'OverallQual',\n",
    "        'OverallCond', 'YearBuilt', 'YearRemodAdd', 'MasVnrArea', 'BsmtFinSF1',\n",
    "        'BsmtFinSF2', 'BsmtUnfSF', 'TotalBsmtSF', '1stFlrSF', '2ndFlrSF',\n",
    "        'LowQualFinSF', 'GrLivArea', 'BsmtFullBath', 'BsmtHalfBath', 'FullBath',\n",
    "        'HalfBath', 'BedroomAbvGr', 'KitchenAbvGr', 'TotRmsAbvGrd',\n",
    "        'Fireplaces', 'GarageYrBlt', 'GarageCars', 'GarageArea', 'WoodDeckSF',\n",
    "        'OpenPorchSF', 'EnclosedPorch', '3SsnPorch', 'ScreenPorch', 'PoolArea',\n",
    "        'MiscVal', 'MoSold', 'YrSold', 'SalePrice']]\n",
    "    return data\n",
    "    \n",
    "from sklearn.utils import shuffle\n",
    "data_shuffled = shuffle(pd.read_csv(\"train.csv\"))"
   ]
  },
  {
   "cell_type": "markdown",
   "metadata": {},
   "source": [
    "# Submission: Random forests with bagging and shuffling"
   ]
  },
  {
   "cell_type": "code",
   "execution_count": 2,
   "metadata": {},
   "outputs": [],
   "source": [
    "data = data_shuffled\n",
    "train_data, y_train, test_data, y_test = split_data(fit_nan(num_col(data)), 1.0)\n",
    "rf = RandomForestRegressor(n_estimators=500)\n",
    "rf.fit(train_data, y_train)\n",
    "\n",
    "submit_data = pd.read_csv(\"test.csv\")\n",
    "\n",
    "submit_data = submit_data[['LotFrontage', 'LotArea', 'OverallQual',\n",
    "        'OverallCond', 'YearBuilt', 'YearRemodAdd', 'MasVnrArea', 'BsmtFinSF1',\n",
    "        'BsmtFinSF2', 'BsmtUnfSF', 'TotalBsmtSF', '1stFlrSF', '2ndFlrSF',\n",
    "        'LowQualFinSF', 'GrLivArea', 'BsmtFullBath', 'BsmtHalfBath', 'FullBath',\n",
    "        'HalfBath', 'BedroomAbvGr', 'KitchenAbvGr', 'TotRmsAbvGrd',\n",
    "        'Fireplaces', 'GarageYrBlt', 'GarageCars', 'GarageArea', 'WoodDeckSF',\n",
    "        'OpenPorchSF', 'EnclosedPorch', '3SsnPorch', 'ScreenPorch', 'PoolArea',\n",
    "        'MiscVal', 'MoSold', 'YrSold']]\n",
    "submit_data = fit_nan(submit_data)\n",
    "\n",
    "length = submit_data.shape[0]\n",
    "\n",
    "pred = rf.predict(submit_data)"
   ]
  },
  {
   "cell_type": "code",
   "execution_count": 4,
   "metadata": {},
   "outputs": [],
   "source": [
    "submit = pd.DataFrame({'Id': np.arange(1461, 1461+length), 'SalePrice' : pred})\n",
    "submit.to_csv('01212019.csv', index=False)"
   ]
  }
 ],
 "metadata": {
  "kernelspec": {
   "display_name": "Python 3",
   "language": "python",
   "name": "python3"
  },
  "language_info": {
   "codemirror_mode": {
    "name": "ipython",
    "version": 3
   },
   "file_extension": ".py",
   "mimetype": "text/x-python",
   "name": "python",
   "nbconvert_exporter": "python",
   "pygments_lexer": "ipython3",
   "version": "3.7.1"
  }
 },
 "nbformat": 4,
 "nbformat_minor": 2
}
